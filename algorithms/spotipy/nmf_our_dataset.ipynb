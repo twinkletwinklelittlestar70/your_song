{
  "nbformat": 4,
  "nbformat_minor": 0,
  "metadata": {
    "colab": {
      "name": "nmf_our_dataset.ipynb",
      "provenance": [],
      "collapsed_sections": [],
      "toc_visible": true
    },
    "kernelspec": {
      "name": "python3",
      "display_name": "Python 3"
    },
    "language_info": {
      "name": "python"
    }
  },
  "cells": [
    {
      "cell_type": "markdown",
      "metadata": {
        "id": "ZVdb_77PgiNJ"
      },
      "source": [
        "\n",
        "https://www.kaggle.com/talfik2/recommendation-systems/notebook"
      ]
    },
    {
      "cell_type": "markdown",
      "metadata": {
        "id": "n-BkPUkIf-KE"
      },
      "source": [
        "# 1. Mount google drive"
      ]
    },
    {
      "cell_type": "code",
      "metadata": {
        "colab": {
          "base_uri": "https://localhost:8080/"
        },
        "id": "GegYcioxf8Ab",
        "outputId": "cab8c385-d7b8-43d4-c67a-a7074aff427a"
      },
      "source": [
        "from google.colab import drive\n",
        "drive.mount('/content/gdrive')"
      ],
      "execution_count": 176,
      "outputs": [
        {
          "output_type": "stream",
          "name": "stdout",
          "text": [
            "Drive already mounted at /content/gdrive; to attempt to forcibly remount, call drive.mount(\"/content/gdrive\", force_remount=True).\n"
          ]
        }
      ]
    },
    {
      "cell_type": "code",
      "metadata": {
        "colab": {
          "base_uri": "https://localhost:8080/",
          "height": 53
        },
        "id": "AfiYB8F0gFDS",
        "outputId": "5811fa7f-aa88-4c7b-c839-ff7fa5e3346d"
      },
      "source": [
        "import os\n",
        "\n",
        "os.chdir('/content/gdrive/My Drive/ISY5001ReasoningPM/colab/spotify_our_data/')\n",
        "print(\"Current working directory:\")\n",
        "os.getcwd()"
      ],
      "execution_count": 177,
      "outputs": [
        {
          "output_type": "stream",
          "name": "stdout",
          "text": [
            "Current working directory:\n"
          ]
        },
        {
          "output_type": "execute_result",
          "data": {
            "application/vnd.google.colaboratory.intrinsic+json": {
              "type": "string"
            },
            "text/plain": [
              "'/content/gdrive/My Drive/ISY5001ReasoningPM/colab/spotify_our_data'"
            ]
          },
          "metadata": {},
          "execution_count": 177
        }
      ]
    },
    {
      "cell_type": "code",
      "metadata": {
        "id": "5JXtdT-Fgo27"
      },
      "source": [
        "import pandas as pd\n",
        "import numpy as np\n",
        "import matplotlib as plt\n",
        "import seaborn as sns\n",
        "import tensorflow as tf\n",
        "import pickle"
      ],
      "execution_count": 178,
      "outputs": []
    },
    {
      "cell_type": "markdown",
      "metadata": {
        "id": "YqM2jQhsgsiC"
      },
      "source": [
        "# 2. Data preparation"
      ]
    },
    {
      "cell_type": "code",
      "metadata": {
        "colab": {
          "base_uri": "https://localhost:8080/",
          "height": 268
        },
        "id": "osjWBvAzgwBG",
        "outputId": "25ae8c0d-79e0-45c5-c694-b65f18588d23"
      },
      "source": [
        "spoti = pd.read_csv(\"./dataset/spotifydata1026utf8.csv\", encoding='utf-8', quotechar='\"')\n",
        "spoti.head(3)"
      ],
      "execution_count": 179,
      "outputs": [
        {
          "output_type": "execute_result",
          "data": {
            "text/html": [
              "<div>\n",
              "<style scoped>\n",
              "    .dataframe tbody tr th:only-of-type {\n",
              "        vertical-align: middle;\n",
              "    }\n",
              "\n",
              "    .dataframe tbody tr th {\n",
              "        vertical-align: top;\n",
              "    }\n",
              "\n",
              "    .dataframe thead th {\n",
              "        text-align: right;\n",
              "    }\n",
              "</style>\n",
              "<table border=\"1\" class=\"dataframe\">\n",
              "  <thead>\n",
              "    <tr style=\"text-align: right;\">\n",
              "      <th></th>\n",
              "      <th>Unnamed: 0</th>\n",
              "      <th>danceability</th>\n",
              "      <th>energy</th>\n",
              "      <th>key</th>\n",
              "      <th>loudness</th>\n",
              "      <th>mode</th>\n",
              "      <th>speechiness</th>\n",
              "      <th>acousticness</th>\n",
              "      <th>instrumentalness</th>\n",
              "      <th>liveness</th>\n",
              "      <th>valence</th>\n",
              "      <th>tempo</th>\n",
              "      <th>type</th>\n",
              "      <th>id</th>\n",
              "      <th>uri</th>\n",
              "      <th>track_href</th>\n",
              "      <th>analysis_url</th>\n",
              "      <th>duration_ms</th>\n",
              "      <th>time_signature</th>\n",
              "      <th>song_name</th>\n",
              "      <th>artist</th>\n",
              "      <th>genre</th>\n",
              "    </tr>\n",
              "  </thead>\n",
              "  <tbody>\n",
              "    <tr>\n",
              "      <th>0</th>\n",
              "      <td>0</td>\n",
              "      <td>0.741</td>\n",
              "      <td>0.739</td>\n",
              "      <td>11.0</td>\n",
              "      <td>-4.627</td>\n",
              "      <td>0.0</td>\n",
              "      <td>0.0386</td>\n",
              "      <td>0.005410</td>\n",
              "      <td>0.026900</td>\n",
              "      <td>0.0496</td>\n",
              "      <td>0.425</td>\n",
              "      <td>126.008</td>\n",
              "      <td>audio_features</td>\n",
              "      <td>0ikuoejgnBNitqFArW6fFk</td>\n",
              "      <td>spotify:track:0ikuoejgnBNitqFArW6fFk</td>\n",
              "      <td>https://api.spotify.com/v1/tracks/0ikuoejgnBNi...</td>\n",
              "      <td>https://api.spotify.com/v1/audio-analysis/0iku...</td>\n",
              "      <td>262857.0</td>\n",
              "      <td>4.0</td>\n",
              "      <td>Dark River - Festival Version</td>\n",
              "      <td>Sebastian Ingrosso</td>\n",
              "      <td>absolute music</td>\n",
              "    </tr>\n",
              "    <tr>\n",
              "      <th>1</th>\n",
              "      <td>1</td>\n",
              "      <td>0.649</td>\n",
              "      <td>0.973</td>\n",
              "      <td>6.0</td>\n",
              "      <td>-4.391</td>\n",
              "      <td>1.0</td>\n",
              "      <td>0.0882</td>\n",
              "      <td>0.000639</td>\n",
              "      <td>0.662000</td>\n",
              "      <td>0.1330</td>\n",
              "      <td>0.221</td>\n",
              "      <td>127.951</td>\n",
              "      <td>audio_features</td>\n",
              "      <td>4nrK0G6pOEuhMxn3hAaava</td>\n",
              "      <td>spotify:track:4nrK0G6pOEuhMxn3hAaava</td>\n",
              "      <td>https://api.spotify.com/v1/tracks/4nrK0G6pOEuh...</td>\n",
              "      <td>https://api.spotify.com/v1/audio-analysis/4nrK...</td>\n",
              "      <td>279375.0</td>\n",
              "      <td>4.0</td>\n",
              "      <td>Derp - Original Mix</td>\n",
              "      <td>Bassjackers</td>\n",
              "      <td>absolute music</td>\n",
              "    </tr>\n",
              "    <tr>\n",
              "      <th>2</th>\n",
              "      <td>2</td>\n",
              "      <td>0.791</td>\n",
              "      <td>0.862</td>\n",
              "      <td>9.0</td>\n",
              "      <td>-3.240</td>\n",
              "      <td>0.0</td>\n",
              "      <td>0.1100</td>\n",
              "      <td>0.037000</td>\n",
              "      <td>0.000022</td>\n",
              "      <td>0.0814</td>\n",
              "      <td>0.592</td>\n",
              "      <td>123.994</td>\n",
              "      <td>audio_features</td>\n",
              "      <td>7ef4DlsgrMEH11cDZd32M6</td>\n",
              "      <td>spotify:track:7ef4DlsgrMEH11cDZd32M6</td>\n",
              "      <td>https://api.spotify.com/v1/tracks/7ef4DlsgrMEH...</td>\n",
              "      <td>https://api.spotify.com/v1/audio-analysis/7ef4...</td>\n",
              "      <td>214847.0</td>\n",
              "      <td>4.0</td>\n",
              "      <td>One Kiss (with Dua Lipa)</td>\n",
              "      <td>Calvin Harris</td>\n",
              "      <td>absolute music</td>\n",
              "    </tr>\n",
              "  </tbody>\n",
              "</table>\n",
              "</div>"
            ],
            "text/plain": [
              "  Unnamed: 0  danceability  ...              artist           genre\n",
              "0          0         0.741  ...  Sebastian Ingrosso  absolute music\n",
              "1          1         0.649  ...         Bassjackers  absolute music\n",
              "2          2         0.791  ...       Calvin Harris  absolute music\n",
              "\n",
              "[3 rows x 22 columns]"
            ]
          },
          "metadata": {},
          "execution_count": 179
        }
      ]
    },
    {
      "cell_type": "code",
      "metadata": {
        "colab": {
          "base_uri": "https://localhost:8080/"
        },
        "id": "UjuGP-pihF6E",
        "outputId": "da6c624f-8a1d-4e6f-87a8-81225426e5b7"
      },
      "source": [
        "spoti.shape"
      ],
      "execution_count": 180,
      "outputs": [
        {
          "output_type": "execute_result",
          "data": {
            "text/plain": [
              "(10097, 22)"
            ]
          },
          "metadata": {},
          "execution_count": 180
        }
      ]
    },
    {
      "cell_type": "markdown",
      "metadata": {
        "id": "RKYiIPJKhbxa"
      },
      "source": [
        "## Creat song name data"
      ]
    },
    {
      "cell_type": "code",
      "metadata": {
        "colab": {
          "base_uri": "https://localhost:8080/"
        },
        "id": "9YON8KcUhJ7x",
        "outputId": "11a7bd27-ad5c-4e34-863a-d81699d1f910"
      },
      "source": [
        "# screat song name\n",
        "song_name = spoti[\"song_name\"]\n",
        "\n",
        "print(song_name.shape)\n",
        "print(song_name.isnull().values.any())"
      ],
      "execution_count": 181,
      "outputs": [
        {
          "output_type": "stream",
          "name": "stdout",
          "text": [
            "(10097,)\n",
            "True\n"
          ]
        }
      ]
    },
    {
      "cell_type": "code",
      "metadata": {
        "colab": {
          "base_uri": "https://localhost:8080/"
        },
        "id": "vhIpCE1GhQ6W",
        "outputId": "b39c9349-d8ca-4023-8d60-cbbb70ab8131"
      },
      "source": [
        "song_name = song_name.values.reshape(-1,1)\n",
        "\n",
        "song_name.shape"
      ],
      "execution_count": 182,
      "outputs": [
        {
          "output_type": "execute_result",
          "data": {
            "text/plain": [
              "(10097, 1)"
            ]
          },
          "metadata": {},
          "execution_count": 182
        }
      ]
    },
    {
      "cell_type": "markdown",
      "metadata": {
        "id": "KtgdNatkgaEf"
      },
      "source": [
        "## Replace NA values"
      ]
    },
    {
      "cell_type": "code",
      "metadata": {
        "colab": {
          "base_uri": "https://localhost:8080/"
        },
        "id": "ZOTreBtkhilK",
        "outputId": "4a7d972b-6bc1-4eb3-a90b-362061bb0a41"
      },
      "source": [
        "from sklearn.impute import SimpleImputer\n",
        "imr = SimpleImputer(missing_values=np.nan, strategy='most_frequent')\n",
        "imr = imr.fit(song_name)\n",
        "imputed_data = imr.transform(song_name)\n",
        "song_name = pd.DataFrame(imputed_data)\n",
        "song_name = song_name.rename(columns={0:\"Song-Names\"})\n",
        "song_name.head(10)\n",
        "song_name.values.tolist()[0]"
      ],
      "execution_count": 183,
      "outputs": [
        {
          "output_type": "execute_result",
          "data": {
            "text/plain": [
              "['Dark River - Festival Version']"
            ]
          },
          "metadata": {},
          "execution_count": 183
        }
      ]
    },
    {
      "cell_type": "code",
      "metadata": {
        "colab": {
          "base_uri": "https://localhost:8080/",
          "height": 363
        },
        "id": "HODq-YXQUDOZ",
        "outputId": "19b89c29-bb6a-4e39-8dda-d33bdfc72c4e"
      },
      "source": [
        "PIK = \"name_pickle.dat\"\n",
        "\n",
        "with open(PIK, \"wb\") as f:\n",
        "    pickle.dump(song_name, f)\n",
        "with open(PIK, \"rb\") as f:\n",
        "    reload_song_name = pickle.load(f)\n",
        "\n",
        "reload_song_name.head(10)"
      ],
      "execution_count": 184,
      "outputs": [
        {
          "output_type": "execute_result",
          "data": {
            "text/html": [
              "<div>\n",
              "<style scoped>\n",
              "    .dataframe tbody tr th:only-of-type {\n",
              "        vertical-align: middle;\n",
              "    }\n",
              "\n",
              "    .dataframe tbody tr th {\n",
              "        vertical-align: top;\n",
              "    }\n",
              "\n",
              "    .dataframe thead th {\n",
              "        text-align: right;\n",
              "    }\n",
              "</style>\n",
              "<table border=\"1\" class=\"dataframe\">\n",
              "  <thead>\n",
              "    <tr style=\"text-align: right;\">\n",
              "      <th></th>\n",
              "      <th>Song-Names</th>\n",
              "    </tr>\n",
              "  </thead>\n",
              "  <tbody>\n",
              "    <tr>\n",
              "      <th>0</th>\n",
              "      <td>Dark River - Festival Version</td>\n",
              "    </tr>\n",
              "    <tr>\n",
              "      <th>1</th>\n",
              "      <td>Derp - Original Mix</td>\n",
              "    </tr>\n",
              "    <tr>\n",
              "      <th>2</th>\n",
              "      <td>One Kiss (with Dua Lipa)</td>\n",
              "    </tr>\n",
              "    <tr>\n",
              "      <th>3</th>\n",
              "      <td>Kill This Love</td>\n",
              "    </tr>\n",
              "    <tr>\n",
              "      <th>4</th>\n",
              "      <td>Physical</td>\n",
              "    </tr>\n",
              "    <tr>\n",
              "      <th>5</th>\n",
              "      <td>Turn Me On (feat. Vula)</td>\n",
              "    </tr>\n",
              "    <tr>\n",
              "      <th>6</th>\n",
              "      <td>Lightning Strikes</td>\n",
              "    </tr>\n",
              "    <tr>\n",
              "      <th>7</th>\n",
              "      <td>Invincible - Original Mix</td>\n",
              "    </tr>\n",
              "    <tr>\n",
              "      <th>8</th>\n",
              "      <td>Bella ciao - HUGEL Remix</td>\n",
              "    </tr>\n",
              "    <tr>\n",
              "      <th>9</th>\n",
              "      <td>SHIVA (Sunburn 2017 Anthem) [feat. The Golden ...</td>\n",
              "    </tr>\n",
              "  </tbody>\n",
              "</table>\n",
              "</div>"
            ],
            "text/plain": [
              "                                          Song-Names\n",
              "0                      Dark River - Festival Version\n",
              "1                                Derp - Original Mix\n",
              "2                           One Kiss (with Dua Lipa)\n",
              "3                                     Kill This Love\n",
              "4                                           Physical\n",
              "5                            Turn Me On (feat. Vula)\n",
              "6                                  Lightning Strikes\n",
              "7                          Invincible - Original Mix\n",
              "8                           Bella ciao - HUGEL Remix\n",
              "9  SHIVA (Sunburn 2017 Anthem) [feat. The Golden ..."
            ]
          },
          "metadata": {},
          "execution_count": 184
        }
      ]
    },
    {
      "cell_type": "markdown",
      "metadata": {
        "id": "Zhgt1ydhaZe3"
      },
      "source": [
        "## Creat song name artists genre data"
      ]
    },
    {
      "cell_type": "code",
      "metadata": {
        "colab": {
          "base_uri": "https://localhost:8080/"
        },
        "id": "Y0V5vaTYad6s",
        "outputId": "336cf4ee-8d13-447f-df35-ff299880cbf3"
      },
      "source": [
        "song_artist_map = spoti[[\"song_name\", \"genre\",\"artist\"]]\n",
        "print(song_artist_map.dtypes)\n",
        "print(song_artist_map.head())\n",
        "# print(song_artist_map.index.values.tolist()) 0开始\n"
      ],
      "execution_count": 185,
      "outputs": [
        {
          "output_type": "stream",
          "name": "stdout",
          "text": [
            "song_name    object\n",
            "genre        object\n",
            "artist       object\n",
            "dtype: object\n",
            "                       song_name           genre              artist\n",
            "0  Dark River - Festival Version  absolute music  Sebastian Ingrosso\n",
            "1            Derp - Original Mix  absolute music         Bassjackers\n",
            "2       One Kiss (with Dua Lipa)  absolute music       Calvin Harris\n",
            "3                 Kill This Love  absolute music           BLACKPINK\n",
            "4                       Physical  absolute music            Dua Lipa\n"
          ]
        }
      ]
    },
    {
      "cell_type": "code",
      "metadata": {
        "colab": {
          "base_uri": "https://localhost:8080/"
        },
        "id": "jnBISTpLk6Qi",
        "outputId": "b2d0cdbf-8504-4b67-ad83-440a76ec97d0"
      },
      "source": [
        "song_artist_map = song_artist_map.replace({\"genre\":{\"popular\":0, \"rock\":1, \"folk\":2, \"hiphop\":3, \"rnb\":4, \"jazz\":5, \"electronic\":6, \"classical\": 7, \"absolute music\":8}})\n",
        "print(song_artist_map)"
      ],
      "execution_count": 186,
      "outputs": [
        {
          "output_type": "stream",
          "name": "stdout",
          "text": [
            "                           song_name  genre                 artist\n",
            "0      Dark River - Festival Version    8.0     Sebastian Ingrosso\n",
            "1                Derp - Original Mix    8.0            Bassjackers\n",
            "2           One Kiss (with Dua Lipa)    8.0          Calvin Harris\n",
            "3                     Kill This Love    8.0              BLACKPINK\n",
            "4                           Physical    8.0               Dua Lipa\n",
            "...                              ...    ...                    ...\n",
            "10092                      Otherside    1.0  Red Hot Chili Peppers\n",
            "10093          White Wedding - Pt. 1    1.0             Billy Idol\n",
            "10094            Eyes Without A Face    1.0             Billy Idol\n",
            "10095                     Rebel Yell    1.0             Billy Idol\n",
            "10096                            NaN    NaN                    NaN\n",
            "\n",
            "[10097 rows x 3 columns]\n"
          ]
        }
      ]
    },
    {
      "cell_type": "code",
      "metadata": {
        "colab": {
          "base_uri": "https://localhost:8080/",
          "height": 363
        },
        "id": "5E2qN3d3bdfg",
        "outputId": "4b00b9e6-7f3a-461b-e10e-2377d82011a0"
      },
      "source": [
        "PIK = \"artist_pickle.dat\"\n",
        "\n",
        "with open(PIK, \"wb\") as f:\n",
        "    pickle.dump(song_artist_map, f)\n",
        "with open(PIK, \"rb\") as f:\n",
        "    reload_song_artist_map = pickle.load(f)\n",
        "\n",
        "reload_song_artist_map.head(10)"
      ],
      "execution_count": 187,
      "outputs": [
        {
          "output_type": "execute_result",
          "data": {
            "text/html": [
              "<div>\n",
              "<style scoped>\n",
              "    .dataframe tbody tr th:only-of-type {\n",
              "        vertical-align: middle;\n",
              "    }\n",
              "\n",
              "    .dataframe tbody tr th {\n",
              "        vertical-align: top;\n",
              "    }\n",
              "\n",
              "    .dataframe thead th {\n",
              "        text-align: right;\n",
              "    }\n",
              "</style>\n",
              "<table border=\"1\" class=\"dataframe\">\n",
              "  <thead>\n",
              "    <tr style=\"text-align: right;\">\n",
              "      <th></th>\n",
              "      <th>song_name</th>\n",
              "      <th>genre</th>\n",
              "      <th>artist</th>\n",
              "    </tr>\n",
              "  </thead>\n",
              "  <tbody>\n",
              "    <tr>\n",
              "      <th>0</th>\n",
              "      <td>Dark River - Festival Version</td>\n",
              "      <td>8.0</td>\n",
              "      <td>Sebastian Ingrosso</td>\n",
              "    </tr>\n",
              "    <tr>\n",
              "      <th>1</th>\n",
              "      <td>Derp - Original Mix</td>\n",
              "      <td>8.0</td>\n",
              "      <td>Bassjackers</td>\n",
              "    </tr>\n",
              "    <tr>\n",
              "      <th>2</th>\n",
              "      <td>One Kiss (with Dua Lipa)</td>\n",
              "      <td>8.0</td>\n",
              "      <td>Calvin Harris</td>\n",
              "    </tr>\n",
              "    <tr>\n",
              "      <th>3</th>\n",
              "      <td>Kill This Love</td>\n",
              "      <td>8.0</td>\n",
              "      <td>BLACKPINK</td>\n",
              "    </tr>\n",
              "    <tr>\n",
              "      <th>4</th>\n",
              "      <td>Physical</td>\n",
              "      <td>8.0</td>\n",
              "      <td>Dua Lipa</td>\n",
              "    </tr>\n",
              "    <tr>\n",
              "      <th>5</th>\n",
              "      <td>Turn Me On (feat. Vula)</td>\n",
              "      <td>8.0</td>\n",
              "      <td>Riton</td>\n",
              "    </tr>\n",
              "    <tr>\n",
              "      <th>6</th>\n",
              "      <td>Lightning Strikes</td>\n",
              "      <td>8.0</td>\n",
              "      <td>Steve Aoki</td>\n",
              "    </tr>\n",
              "    <tr>\n",
              "      <th>7</th>\n",
              "      <td>Invincible - Original Mix</td>\n",
              "      <td>8.0</td>\n",
              "      <td>Borgeous</td>\n",
              "    </tr>\n",
              "    <tr>\n",
              "      <th>8</th>\n",
              "      <td>Bella ciao - HUGEL Remix</td>\n",
              "      <td>8.0</td>\n",
              "      <td>El Profesor</td>\n",
              "    </tr>\n",
              "    <tr>\n",
              "      <th>9</th>\n",
              "      <td>SHIVA (Sunburn 2017 Anthem) [feat. The Golden ...</td>\n",
              "      <td>8.0</td>\n",
              "      <td>KSHMR</td>\n",
              "    </tr>\n",
              "  </tbody>\n",
              "</table>\n",
              "</div>"
            ],
            "text/plain": [
              "                                           song_name  genre              artist\n",
              "0                      Dark River - Festival Version    8.0  Sebastian Ingrosso\n",
              "1                                Derp - Original Mix    8.0         Bassjackers\n",
              "2                           One Kiss (with Dua Lipa)    8.0       Calvin Harris\n",
              "3                                     Kill This Love    8.0           BLACKPINK\n",
              "4                                           Physical    8.0            Dua Lipa\n",
              "5                            Turn Me On (feat. Vula)    8.0               Riton\n",
              "6                                  Lightning Strikes    8.0          Steve Aoki\n",
              "7                          Invincible - Original Mix    8.0            Borgeous\n",
              "8                           Bella ciao - HUGEL Remix    8.0         El Profesor\n",
              "9  SHIVA (Sunburn 2017 Anthem) [feat. The Golden ...    8.0               KSHMR"
            ]
          },
          "metadata": {},
          "execution_count": 187
        }
      ]
    },
    {
      "cell_type": "markdown",
      "metadata": {
        "id": "EMRTjli1hoYl"
      },
      "source": [
        "## CREATING CORE"
      ]
    },
    {
      "cell_type": "code",
      "metadata": {
        "colab": {
          "base_uri": "https://localhost:8080/"
        },
        "id": "y273sSwEhqkW",
        "outputId": "0a2b283f-5814-458b-8d97-4571626d0fcd"
      },
      "source": [
        "# core = spoti[[\"genre\",\"mode\",\"duration_ms\"]]\n",
        "core = spoti[[\"genre\",\"mode\",\"danceability\", \"energy\"]]\n",
        "print(core.dtypes)\n",
        "print(core.head())"
      ],
      "execution_count": 188,
      "outputs": [
        {
          "output_type": "stream",
          "name": "stdout",
          "text": [
            "genre            object\n",
            "mode            float64\n",
            "danceability    float64\n",
            "energy          float64\n",
            "dtype: object\n",
            "            genre  mode  danceability  energy\n",
            "0  absolute music   0.0         0.741   0.739\n",
            "1  absolute music   1.0         0.649   0.973\n",
            "2  absolute music   0.0         0.791   0.862\n",
            "3  absolute music   1.0         0.738   0.861\n",
            "4  absolute music   1.0         0.647   0.844\n"
          ]
        }
      ]
    },
    {
      "cell_type": "code",
      "metadata": {
        "colab": {
          "base_uri": "https://localhost:8080/"
        },
        "id": "-1H9Diushvgl",
        "outputId": "e6f63d97-f151-4bcc-c924-16a43f0ce189"
      },
      "source": [
        "core[\"genre\"].value_counts()"
      ],
      "execution_count": 189,
      "outputs": [
        {
          "output_type": "execute_result",
          "data": {
            "text/plain": [
              "popular           1867\n",
              "rock              1340\n",
              "folk              1271\n",
              "hiphop            1141\n",
              "rnb               1086\n",
              "jazz              1065\n",
              "electronic        1052\n",
              "classical          740\n",
              "absolute music     534\n",
              "Name: genre, dtype: int64"
            ]
          },
          "metadata": {},
          "execution_count": 189
        }
      ]
    },
    {
      "cell_type": "code",
      "metadata": {
        "id": "KaPcPqE3hyq8"
      },
      "source": [
        "core = core.replace({\"genre\":{\"popular\":0, \"rock\":1, \"folk\":2, \"hiphop\":3, \"rnb\":4, \"jazz\":5, \"electronic\":6, \"classical\": 7, \"absolute music\":8}})"
      ],
      "execution_count": 190,
      "outputs": []
    },
    {
      "cell_type": "code",
      "metadata": {
        "id": "7gMQS-L6uZJe"
      },
      "source": [
        "from sklearn.impute import SimpleImputer\n",
        "def replace_missing_value(df, number_features):\n",
        "\n",
        "    imputer = SimpleImputer(missing_values=np.nan,strategy=\"median\")\n",
        "    df_num = df[number_features]\n",
        "    imputer.fit(df_num)\n",
        "    X = imputer.transform(df_num)\n",
        "    res_def = pd.DataFrame(X, columns=df_num.columns)\n",
        "    return res_def\n",
        "\n",
        "number_features = [\"genre\",\"mode\",\"danceability\", \"energy\"]\n",
        "core = replace_missing_value(core, number_features)"
      ],
      "execution_count": 191,
      "outputs": []
    },
    {
      "cell_type": "code",
      "metadata": {
        "colab": {
          "base_uri": "https://localhost:8080/"
        },
        "id": "LL-Jq0doi6mC",
        "outputId": "f6ca1978-9a5f-4b03-96f8-12c652307e25"
      },
      "source": [
        "print(core)"
      ],
      "execution_count": 192,
      "outputs": [
        {
          "output_type": "stream",
          "name": "stdout",
          "text": [
            "       genre  mode  danceability  energy\n",
            "0        8.0   0.0         0.741   0.739\n",
            "1        8.0   1.0         0.649   0.973\n",
            "2        8.0   0.0         0.791   0.862\n",
            "3        8.0   1.0         0.738   0.861\n",
            "4        8.0   1.0         0.647   0.844\n",
            "...      ...   ...           ...     ...\n",
            "10092    1.0   1.0         0.450   0.525\n",
            "10093    1.0   1.0         0.338   0.340\n",
            "10094    1.0   1.0         0.469   0.561\n",
            "10095    1.0   0.0         0.458   0.795\n",
            "10096    3.0   1.0         0.592   0.577\n",
            "\n",
            "[10097 rows x 4 columns]\n"
          ]
        }
      ]
    },
    {
      "cell_type": "code",
      "metadata": {
        "colab": {
          "base_uri": "https://localhost:8080/"
        },
        "id": "cQkGrJVNTZaU",
        "outputId": "8b0f3347-cfbb-4750-cb84-215ec2b0561a"
      },
      "source": [
        "import pickle\n",
        "PIK = \"core_pickle.dat\"\n",
        "\n",
        "with open(PIK, \"wb\") as f:\n",
        "    pickle.dump(core, f)\n",
        "with open(PIK, \"rb\") as f:\n",
        "    reload_core = pickle.load(f)\n",
        "\n",
        "print(reload_core)"
      ],
      "execution_count": 193,
      "outputs": [
        {
          "output_type": "stream",
          "name": "stdout",
          "text": [
            "       genre  mode  danceability  energy\n",
            "0        8.0   0.0         0.741   0.739\n",
            "1        8.0   1.0         0.649   0.973\n",
            "2        8.0   0.0         0.791   0.862\n",
            "3        8.0   1.0         0.738   0.861\n",
            "4        8.0   1.0         0.647   0.844\n",
            "...      ...   ...           ...     ...\n",
            "10092    1.0   1.0         0.450   0.525\n",
            "10093    1.0   1.0         0.338   0.340\n",
            "10094    1.0   1.0         0.469   0.561\n",
            "10095    1.0   0.0         0.458   0.795\n",
            "10096    3.0   1.0         0.592   0.577\n",
            "\n",
            "[10097 rows x 4 columns]\n"
          ]
        }
      ]
    },
    {
      "cell_type": "markdown",
      "metadata": {
        "id": "taHXrVn0h1Bi"
      },
      "source": [
        "# Train the model"
      ]
    },
    {
      "cell_type": "markdown",
      "metadata": {
        "id": "Nl5rEK-lh6XO"
      },
      "source": [
        "### APPLYING NMF\n",
        "\n",
        "Non-negative matrix factorization (NMF), also non-negative matrix approximation is a group of algorithms in multivariate analysis and linear algebra where a matrix V is factorized into (usually) two matrices W and H, with the property that all three matrices have no negative elements. This non-negativity makes the resulting matrices easier to inspect."
      ]
    },
    {
      "cell_type": "code",
      "metadata": {
        "id": "z2d_oPfCh4Za"
      },
      "source": [
        "from sklearn.decomposition import NMF\n",
        "\n",
        "nmf = NMF(n_components = 6)\n",
        "nmf_features = nmf.fit_transform(core)"
      ],
      "execution_count": 194,
      "outputs": []
    },
    {
      "cell_type": "code",
      "metadata": {
        "id": "SUy16IcuiBal"
      },
      "source": [
        "from sklearn.preprocessing import normalize\n",
        "norm_features = normalize(nmf_features)\n"
      ],
      "execution_count": 195,
      "outputs": []
    },
    {
      "cell_type": "code",
      "metadata": {
        "colab": {
          "base_uri": "https://localhost:8080/"
        },
        "id": "gd9TFfnMUzUR",
        "outputId": "20fd2564-e995-460d-8c40-a2294d6789aa"
      },
      "source": [
        "import pickle\n",
        "PIK = \"nmf_pickle.dat\"\n",
        "\n",
        "with open(PIK, \"wb\") as f:\n",
        "    pickle.dump(norm_features, f)\n",
        "with open(PIK, \"rb\") as f:\n",
        "    reload_nmf_features = pickle.load(f)\n",
        "\n",
        "print(reload_nmf_features)"
      ],
      "execution_count": 196,
      "outputs": [
        {
          "output_type": "stream",
          "name": "stdout",
          "text": [
            "[[9.94196379e-01 1.05500265e-06 4.58090214e-02 9.72457159e-02\n",
            "  4.28525372e-03 0.00000000e+00]\n",
            " [9.89234187e-01 5.00959954e-02 2.30354971e-02 1.31275610e-01\n",
            "  0.00000000e+00 3.37963612e-02]\n",
            " [9.91703850e-01 4.92369898e-07 5.05425963e-02 1.18145285e-01\n",
            "  3.25745836e-03 0.00000000e+00]\n",
            " ...\n",
            " [5.02522072e-01 3.73028201e-02 1.71218289e-01 1.80776362e-01\n",
            "  3.46640851e-01 7.50948994e-01]\n",
            " [1.23263501e-01 0.00000000e+00 2.91623579e-01 9.43498629e-01\n",
            "  9.78372887e-02 2.82915045e-06]\n",
            " [9.26242911e-01 1.46436758e-02 9.71551926e-02 1.37229354e-01\n",
            "  8.82830301e-02 3.25260989e-01]]\n"
          ]
        }
      ]
    },
    {
      "cell_type": "code",
      "metadata": {
        "colab": {
          "base_uri": "https://localhost:8080/"
        },
        "id": "pLMuDhTGUwsV",
        "outputId": "d2b9e39f-513e-4b8c-e396-43b98c653885"
      },
      "source": [
        "current_music = norm_features[23,:]\n",
        "similarities = norm_features.dot(current_music)\n",
        "similarities"
      ],
      "execution_count": 197,
      "outputs": [
        {
          "output_type": "execute_result",
          "data": {
            "text/plain": [
              "array([0.99974129, 0.99794602, 0.9999398 , ..., 0.52689092, 0.24601402,\n",
              "       0.9391303 ])"
            ]
          },
          "metadata": {},
          "execution_count": 197
        }
      ]
    },
    {
      "cell_type": "code",
      "metadata": {
        "colab": {
          "base_uri": "https://localhost:8080/"
        },
        "id": "qMIPltepVDNY",
        "outputId": "4974ecd8-59ea-4b3f-bf91-f41499f8ddc6"
      },
      "source": [
        "current_music = reload_nmf_features[23,:]\n",
        "similarities = reload_nmf_features.dot(current_music)\n",
        "similarities"
      ],
      "execution_count": 198,
      "outputs": [
        {
          "output_type": "execute_result",
          "data": {
            "text/plain": [
              "array([0.99974129, 0.99794602, 0.9999398 , ..., 0.52689092, 0.24601402,\n",
              "       0.9391303 ])"
            ]
          },
          "metadata": {},
          "execution_count": 198
        }
      ]
    },
    {
      "cell_type": "code",
      "metadata": {
        "id": "QeLF8NTpiEVh"
      },
      "source": [
        "df = pd.DataFrame(norm_features)\n",
        "x = df.join(song_name)\n",
        "df = pd.pivot_table(x, x[[0,1,2,3,4,5]],[\"Song-Names\"]) # for indexing song_name to our df\n",
        "\n",
        "def current_music(value):\n",
        "    print(\"Top 5 recommendations for given music are:\")\n",
        "    value = df.loc[value]\n",
        "    similarities = df.dot(value)\n",
        "    print(format(similarities.nlargest()))"
      ],
      "execution_count": 199,
      "outputs": []
    },
    {
      "cell_type": "code",
      "metadata": {
        "colab": {
          "base_uri": "https://localhost:8080/"
        },
        "id": "rrCrMXjbZSNh",
        "outputId": "1013af40-3743-4d00-8671-61c09b95781f"
      },
      "source": [
        "current_music(\"The Smile Song\")"
      ],
      "execution_count": 200,
      "outputs": [
        {
          "output_type": "stream",
          "name": "stdout",
          "text": [
            "Top 5 recommendations for given music are:\n",
            "Song-Names\n",
            "The Smile Song             1.000000\n",
            "The Power Of Love          0.999588\n",
            "Sometimes When We Touch    0.998662\n",
            "¿ÉÊÇ»¹Ï²»¶                 0.997611\n",
            "Rainbow Rocks              0.996911\n",
            "dtype: float64\n"
          ]
        }
      ]
    },
    {
      "cell_type": "code",
      "metadata": {
        "id": "3YCn1_irYkbt"
      },
      "source": [
        "df = pd.DataFrame(norm_features)\n",
        "x = df.join(song_name)\n",
        "df = pd.pivot_table(x, x[[0,1,2,3,4,5]],[\"Song-Names\"]) # for indexing song_name to our df\n",
        "\n",
        "def current_music(value):\n",
        "    value = df.loc[value]\n",
        "    similarities = df.dot(value)\n",
        "    mylist = similarities.nlargest(10)\n",
        "    # print(format(similarities.nlargest(10)))\n",
        "\n",
        "    test = mylist.index.values.tolist()\n",
        "    return test"
      ],
      "execution_count": 201,
      "outputs": []
    },
    {
      "cell_type": "code",
      "metadata": {
        "colab": {
          "base_uri": "https://localhost:8080/"
        },
        "id": "4z4-TvrAiGhG",
        "outputId": "ff5787eb-a9af-4dbf-f7f5-aa507a56e547"
      },
      "source": [
        "list = current_music(\"Venom\")\n",
        "print(type(list))\n",
        "print(list)"
      ],
      "execution_count": 202,
      "outputs": [
        {
          "output_type": "stream",
          "name": "stdout",
          "text": [
            "<class 'list'>\n",
            "['Stuck In The Middle With You', 'Smoke on the Water', 'One Small Thing', 'Personal Jesus - Original Single Version', 'Paris of the East', \"You'll Play Your Part\", '3 Libras', 'Hungry Eyes - From \"Dirty Dancing\" Soundtrack', 'Dalam Diam Aku Mencintaimu', '¤Ï¤¸¤á¤Þ¤·¤Æ¤Î\\x9aÝ³Ö¤Á¤ò']\n"
          ]
        }
      ]
    }
  ]
}